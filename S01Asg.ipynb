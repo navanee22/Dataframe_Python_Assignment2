{
 "cells": [
  {
   "cell_type": "code",
   "execution_count": 1,
   "id": "5587d7c5-70bf-445f-82d8-b087a840d2d0",
   "metadata": {},
   "outputs": [],
   "source": [
    "import findspark\n",
    "findspark.init()"
   ]
  },
  {
   "cell_type": "code",
   "execution_count": 2,
   "id": "981d2546-6342-4bef-8abc-f859955ce2ae",
   "metadata": {},
   "outputs": [
    {
     "name": "stderr",
     "output_type": "stream",
     "text": [
      "22/03/12 05:22:27 WARN Utils: Your hostname, ubuntu-virtual-machine resolves to a loopback address: 127.0.1.1; using 192.168.80.128 instead (on interface ens33)\n",
      "22/03/12 05:22:27 WARN Utils: Set SPARK_LOCAL_IP if you need to bind to another address\n",
      "22/03/12 05:22:28 WARN NativeCodeLoader: Unable to load native-hadoop library for your platform... using builtin-java classes where applicable\n",
      "Using Spark's default log4j profile: org/apache/spark/log4j-defaults.properties\n",
      "Setting default log level to \"WARN\".\n",
      "To adjust logging level use sc.setLogLevel(newLevel). For SparkR, use setLogLevel(newLevel).\n"
     ]
    }
   ],
   "source": [
    "from pyspark.conf import SparkConf\n",
    "config = SparkConf()\n",
    "config.setMaster(\"local\").setAppName(\"DataFrameAsg01\")\n",
    "\n",
    "from pyspark.sql import SparkSession\n",
    "spark = SparkSession.builder.config(conf=config).getOrCreate()\n",
    "\n",
    "sc= spark.sparkContext"
   ]
  },
  {
   "cell_type": "code",
   "execution_count": 3,
   "id": "6126b6ff-bb24-47d4-8901-4b0aae0cb36c",
   "metadata": {},
   "outputs": [],
   "source": [
    "#SYMBOL,SERIES,OPEN,HIGH,LOW,CLOSE,LAST,PREVCLOSE,TOTTRDQTY,TOTTRDVAL,TIMESTAMP,TOTALTRADES,ISIN,\n",
    "from pyspark.sql.types import StructType, LongType, StringType, IntegerType, DoubleType, DateType, TimestampType\n",
    "\n",
    "stockSchema = StructType()\\\n",
    "                    .add(\"SYMBOL\", StringType(),True)\\\n",
    "                    .add(\"SERIES\", StringType(),True)\\\n",
    "                    .add(\"OPEN\", DoubleType(),True)\\\n",
    "                    .add(\"HIGH\", DoubleType(),True)\\\n",
    "                    .add(\"LOW\", DoubleType(),True)\\\n",
    "                    .add(\"CLOSE\", DoubleType(),True)\\\n",
    "                    .add(\"LAST\", DoubleType(),True)\\\n",
    "                    .add(\"PREVCLOSE\", DoubleType(),True)\\\n",
    "                    .add(\"TOTTRDQTY\", IntegerType(),True)\\\n",
    "                    .add(\"TOTTRDVAL\", DoubleType(),True)\\\n",
    "                    .add(\"TIMESTAMP\", StringType(),True)\\\n",
    "                    .add(\"TOTALTRADES\", IntegerType(),True)\\\n",
    "                    .add(\"ISIN\", StringType(),True)\n"
   ]
  },
  {
   "cell_type": "code",
   "execution_count": 4,
   "id": "b932afce-2e8a-43fa-8d1d-a9f770a55649",
   "metadata": {},
   "outputs": [
    {
     "name": "stdout",
     "output_type": "stream",
     "text": [
      "root\n",
      " |-- SYMBOL: string (nullable = true)\n",
      " |-- SERIES: string (nullable = true)\n",
      " |-- OPEN: double (nullable = true)\n",
      " |-- HIGH: double (nullable = true)\n",
      " |-- LOW: double (nullable = true)\n",
      " |-- CLOSE: double (nullable = true)\n",
      " |-- LAST: double (nullable = true)\n",
      " |-- PREVCLOSE: double (nullable = true)\n",
      " |-- TOTTRDQTY: integer (nullable = true)\n",
      " |-- TOTTRDVAL: double (nullable = true)\n",
      " |-- TIMESTAMP: string (nullable = true)\n",
      " |-- TOTALTRADES: integer (nullable = true)\n",
      " |-- ISIN: string (nullable = true)\n",
      "\n"
     ]
    },
    {
     "name": "stderr",
     "output_type": "stream",
     "text": [
      "[Stage 0:>                                                          (0 + 1) / 1]\r"
     ]
    },
    {
     "name": "stdout",
     "output_type": "stream",
     "text": [
      "+----------+------+----+-----+-----+-----+-----+---------+---------+-------------+-----------+-----------+------------+\n",
      "|    SYMBOL|SERIES|OPEN| HIGH|  LOW|CLOSE| LAST|PREVCLOSE|TOTTRDQTY|    TOTTRDVAL|  TIMESTAMP|TOTALTRADES|        ISIN|\n",
      "+----------+------+----+-----+-----+-----+-----+---------+---------+-------------+-----------+-----------+------------+\n",
      "| 20MICRONS|    EQ|76.0|77.55|73.25| 74.1| 73.6|     77.2|   141872|1.061998695E7|21-FEB-2022|       2443|INE144J01027|\n",
      "|21STCENMGM|    EQ|33.3| 33.3| 33.3| 33.3| 33.3|    33.95|      415|      13819.5|21-FEB-2022|         24|INE253B01015|\n",
      "| 3IINFOLTD|    EQ|62.0| 63.4|59.05|59.05|59.05|    62.15|   753815| 4.47928636E7|21-FEB-2022|       4999|INE748C01038|\n",
      "+----------+------+----+-----+-----+-----+-----+---------+---------+-------------+-----------+-----------+------------+\n",
      "only showing top 3 rows\n",
      "\n"
     ]
    },
    {
     "name": "stderr",
     "output_type": "stream",
     "text": [
      "22/03/12 05:22:42 WARN CSVHeaderChecker: Number of column in CSV header is not equal to number of fields in the schema:\n",
      " Header length: 14, schema size: 13\n",
      "CSV file: hdfs://localhost:9000/asgStocks/cm21FEB2022bhav.csv\n",
      "                                                                                \r"
     ]
    }
   ],
   "source": [
    "stockDf= spark.read.format(\"csv\").option(\"header\", True).schema(stockSchema).load(\"hdfs://localhost:9000/asgStocks\")\n",
    "stockDf.printSchema()\n",
    "\n",
    "stockDf.show(3)"
   ]
  },
  {
   "cell_type": "code",
   "execution_count": 5,
   "id": "6c98c3d6-d594-4887-890d-ba45d6859f34",
   "metadata": {},
   "outputs": [
    {
     "name": "stdout",
     "output_type": "stream",
     "text": [
      "root\n",
      " |-- SYMBOL: string (nullable = true)\n",
      " |-- SERIES: string (nullable = true)\n",
      " |-- OPEN: double (nullable = true)\n",
      " |-- HIGH: double (nullable = true)\n",
      " |-- LOW: double (nullable = true)\n",
      " |-- CLOSE: double (nullable = true)\n",
      " |-- LAST: double (nullable = true)\n",
      " |-- PREVCLOSE: double (nullable = true)\n",
      " |-- TOTTRDQTY: integer (nullable = true)\n",
      " |-- TOTTRDVAL: double (nullable = true)\n",
      " |-- TIMESTAMP: string (nullable = true)\n",
      " |-- TOTALTRADES: integer (nullable = true)\n",
      " |-- ISIN: string (nullable = true)\n",
      " |-- Date: timestamp (nullable = true)\n",
      "\n",
      "+----------+------+----+-----+-----+-----+-----+---------+---------+-------------+-----------+-----------+------------+-------------------+\n",
      "|    SYMBOL|SERIES|OPEN| HIGH|  LOW|CLOSE| LAST|PREVCLOSE|TOTTRDQTY|    TOTTRDVAL|  TIMESTAMP|TOTALTRADES|        ISIN|               Date|\n",
      "+----------+------+----+-----+-----+-----+-----+---------+---------+-------------+-----------+-----------+------------+-------------------+\n",
      "| 20MICRONS|    EQ|76.0|77.55|73.25| 74.1| 73.6|     77.2|   141872|1.061998695E7|21-FEB-2022|       2443|INE144J01027|2022-02-21 00:00:00|\n",
      "|21STCENMGM|    EQ|33.3| 33.3| 33.3| 33.3| 33.3|    33.95|      415|      13819.5|21-FEB-2022|         24|INE253B01015|2022-02-21 00:00:00|\n",
      "| 3IINFOLTD|    EQ|62.0| 63.4|59.05|59.05|59.05|    62.15|   753815| 4.47928636E7|21-FEB-2022|       4999|INE748C01038|2022-02-21 00:00:00|\n",
      "+----------+------+----+-----+-----+-----+-----+---------+---------+-------------+-----------+-----------+------------+-------------------+\n",
      "only showing top 3 rows\n",
      "\n"
     ]
    },
    {
     "name": "stderr",
     "output_type": "stream",
     "text": [
      "22/03/12 05:22:47 WARN CSVHeaderChecker: Number of column in CSV header is not equal to number of fields in the schema:\n",
      " Header length: 14, schema size: 13\n",
      "CSV file: hdfs://localhost:9000/asgStocks/cm21FEB2022bhav.csv\n"
     ]
    }
   ],
   "source": [
    "from pyspark.sql.functions import *\n",
    "stockDateDf= stockDf.withColumn(\"Date\" , to_timestamp(col(\"TIMESTAMP\"),\"dd-MMM-yyyy\"))\n",
    "stockDateDf.printSchema()\n",
    "\n",
    "stockDateDf.show(3)"
   ]
  },
  {
   "cell_type": "code",
   "execution_count": 6,
   "id": "e712df6b-d11f-4bf7-9948-17ec5a38db3b",
   "metadata": {},
   "outputs": [
    {
     "name": "stdout",
     "output_type": "stream",
     "text": [
      "root\n",
      " |-- SYMBOL: string (nullable = true)\n",
      " |-- SERIES: string (nullable = true)\n",
      " |-- OPEN: double (nullable = true)\n",
      " |-- HIGH: double (nullable = true)\n",
      " |-- LOW: double (nullable = true)\n",
      " |-- CLOSE: double (nullable = true)\n",
      " |-- LAST: double (nullable = true)\n",
      " |-- PREVCLOSE: double (nullable = true)\n",
      " |-- TOTTRDQTY: integer (nullable = true)\n",
      " |-- TOTTRDVAL: double (nullable = true)\n",
      " |-- TIMESTAMP: string (nullable = true)\n",
      " |-- TOTALTRADES: integer (nullable = true)\n",
      " |-- ISIN: string (nullable = true)\n",
      " |-- Date: timestamp (nullable = true)\n",
      " |-- YEAR: string (nullable = true)\n",
      " |-- MONTH: string (nullable = true)\n",
      " |-- DAY: string (nullable = true)\n",
      "\n",
      "+----------+------+-------+--------+--------+-------+-------+---------+---------+-------------+-----------+-----------+------------+-------------------+----+-----+---+\n",
      "|    SYMBOL|SERIES|   OPEN|    HIGH|     LOW|  CLOSE|   LAST|PREVCLOSE|TOTTRDQTY|    TOTTRDVAL|  TIMESTAMP|TOTALTRADES|        ISIN|               Date|YEAR|MONTH|DAY|\n",
      "+----------+------+-------+--------+--------+-------+-------+---------+---------+-------------+-----------+-----------+------------+-------------------+----+-----+---+\n",
      "| 20MICRONS|    EQ|   76.0|   77.55|   73.25|   74.1|   73.6|     77.2|   141872|1.061998695E7|21-FEB-2022|       2443|INE144J01027|2022-02-21 00:00:00|2022|   02| 21|\n",
      "|21STCENMGM|    EQ|   33.3|    33.3|    33.3|   33.3|   33.3|    33.95|      415|      13819.5|21-FEB-2022|         24|INE253B01015|2022-02-21 00:00:00|2022|   02| 21|\n",
      "| 3IINFOLTD|    EQ|   62.0|    63.4|   59.05|  59.05|  59.05|    62.15|   753815| 4.47928636E7|21-FEB-2022|       4999|INE748C01038|2022-02-21 00:00:00|2022|   02| 21|\n",
      "|   3MINDIA|    EQ|21700.0|22240.85|21500.05|22156.3|22080.0| 21640.45|     3559|7.827183535E7|21-FEB-2022|       1906|INE470A01017|2022-02-21 00:00:00|2022|   02| 21|\n",
      "|    3PLAND|    BE|  16.15|   16.95|    15.4|   16.5|  16.55|    16.15|     7200|     116645.2|21-FEB-2022|         71|INE105C01023|2022-02-21 00:00:00|2022|   02| 21|\n",
      "+----------+------+-------+--------+--------+-------+-------+---------+---------+-------------+-----------+-----------+------------+-------------------+----+-----+---+\n",
      "only showing top 5 rows\n",
      "\n"
     ]
    },
    {
     "name": "stderr",
     "output_type": "stream",
     "text": [
      "22/03/12 05:22:55 WARN CSVHeaderChecker: Number of column in CSV header is not equal to number of fields in the schema:\n",
      " Header length: 14, schema size: 13\n",
      "CSV file: hdfs://localhost:9000/asgStocks/cm21FEB2022bhav.csv\n"
     ]
    }
   ],
   "source": [
    "stockFinalDf = stockDateDf.withColumn(\"YEAR\", date_format(col(\"Date\"), \"yyyy\"))\\\n",
    "                            .withColumn(\"MONTH\", date_format(col(\"Date\"), \"MM\"))\\\n",
    "                            .withColumn(\"DAY\", date_format(col(\"Date\"), \"dd\"))\n",
    "stockFinalDf.printSchema()\n",
    "stockFinalDf.show(5)"
   ]
  },
  {
   "cell_type": "code",
   "execution_count": 7,
   "id": "1a504a5c-43cb-4c71-9c54-5c7aecf25673",
   "metadata": {},
   "outputs": [
    {
     "name": "stderr",
     "output_type": "stream",
     "text": [
      "22/03/12 05:23:03 WARN CSVHeaderChecker: Number of column in CSV header is not equal to number of fields in the schema:\n",
      " Header length: 14, schema size: 13\n",
      "CSV file: hdfs://localhost:9000/asgStocks/cm21FEB2022bhav.csv\n",
      "22/03/12 05:23:03 WARN CSVHeaderChecker: Number of column in CSV header is not equal to number of fields in the schema:\n",
      " Header length: 14, schema size: 13\n",
      "CSV file: hdfs://localhost:9000/asgStocks/cm24FEB2022bhav.csv\n",
      "22/03/12 05:23:03 WARN CSVHeaderChecker: Number of column in CSV header is not equal to number of fields in the schema:\n",
      " Header length: 14, schema size: 13\n",
      "CSV file: hdfs://localhost:9000/asgStocks/cm02MAR2022bhav.csv\n",
      "22/03/12 05:23:03 WARN CSVHeaderChecker: Number of column in CSV header is not equal to number of fields in the schema:\n",
      " Header length: 14, schema size: 13\n",
      "CSV file: hdfs://localhost:9000/asgStocks/cm28FEB2022bhav.csv\n",
      "22/03/12 05:23:04 WARN CSVHeaderChecker: Number of column in CSV header is not equal to number of fields in the schema:\n",
      " Header length: 14, schema size: 13\n",
      "CSV file: hdfs://localhost:9000/asgStocks/cm22FEB2022bhav.csv\n",
      "22/03/12 05:23:04 WARN CSVHeaderChecker: Number of column in CSV header is not equal to number of fields in the schema:\n",
      " Header length: 14, schema size: 13\n",
      "CSV file: hdfs://localhost:9000/asgStocks/cm04MAR2022bhav.csv\n",
      "22/03/12 05:23:04 WARN CSVHeaderChecker: Number of column in CSV header is not equal to number of fields in the schema:\n",
      " Header length: 14, schema size: 13\n",
      "CSV file: hdfs://localhost:9000/asgStocks/cm23FEB2022bhav.csv\n",
      "22/03/12 05:23:04 WARN CSVHeaderChecker: Number of column in CSV header is not equal to number of fields in the schema:\n",
      " Header length: 14, schema size: 13\n",
      "CSV file: hdfs://localhost:9000/asgStocks/cm18FEB2022bhav.csv\n",
      "22/03/12 05:23:04 WARN CSVHeaderChecker: Number of column in CSV header is not equal to number of fields in the schema:\n",
      " Header length: 14, schema size: 13\n",
      "CSV file: hdfs://localhost:9000/asgStocks/cm03MAR2022bhav.csv\n",
      "22/03/12 05:23:04 WARN CSVHeaderChecker: Number of column in CSV header is not equal to number of fields in the schema:\n",
      " Header length: 14, schema size: 13\n",
      "CSV file: hdfs://localhost:9000/asgStocks/cm25FEB2022bhav.csv\n",
      "                                                                                \r"
     ]
    }
   ],
   "source": [
    "stockFinalDf.write\\\n",
    "            .partitionBy(\"YEAR\", \"MONTH\", \"DAY\")\\\n",
    "            .format(\"parquet\")\\\n",
    "            .mode(\"overwrite\")\\\n",
    "            .save(\"hdfs://localhost:9000/Assignment01StockWrite/\")"
   ]
  },
  {
   "cell_type": "code",
   "execution_count": null,
   "id": "b348b659-8af4-4a26-a4b3-ffbdbcd95ce1",
   "metadata": {},
   "outputs": [],
   "source": []
  }
 ],
 "metadata": {
  "kernelspec": {
   "display_name": "Python 3 (ipykernel)",
   "language": "python",
   "name": "python3"
  },
  "language_info": {
   "codemirror_mode": {
    "name": "ipython",
    "version": 3
   },
   "file_extension": ".py",
   "mimetype": "text/x-python",
   "name": "python",
   "nbconvert_exporter": "python",
   "pygments_lexer": "ipython3",
   "version": "3.7.12"
  }
 },
 "nbformat": 4,
 "nbformat_minor": 5
}
